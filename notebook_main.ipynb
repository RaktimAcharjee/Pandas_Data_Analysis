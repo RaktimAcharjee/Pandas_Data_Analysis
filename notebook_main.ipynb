{
 "cells": [
  {
   "cell_type": "code",
   "execution_count": 46,
   "metadata": {},
   "outputs": [],
   "source": [
    "# Importing all the necessary libraries\n",
    "import numpy as np\n",
    "import pandas as pd "
   ]
  },
  {
   "cell_type": "code",
   "execution_count": 47,
   "metadata": {},
   "outputs": [
    {
     "name": "stdout",
     "output_type": "stream",
     "text": [
      "    Loan_ID Gender Married Dependents     Education Self_Employed  \\\n",
      "0  LP001015   Male     Yes          0      Graduate            No   \n",
      "1  LP001022   Male     Yes          1      Graduate            No   \n",
      "2  LP001031   Male     Yes          2      Graduate            No   \n",
      "3  LP001035   Male     Yes          2      Graduate            No   \n",
      "4  LP001051   Male      No          0  Not Graduate            No   \n",
      "\n",
      "   Applicant_Income  Coapplicant_Income  LoanAmount  Loan_Amount_Term  \\\n",
      "0              5720                   0         110               360   \n",
      "1              3076                1500         126               360   \n",
      "2              5000                1800         208               360   \n",
      "3              2340                2546         100               360   \n",
      "4              3276                   0          78               360   \n",
      "\n",
      "   Credit_History Property_Area  \n",
      "0               1         Urban  \n",
      "1               1         Urban  \n",
      "2               1         Urban  \n",
      "3               1         Urban  \n",
      "4               1         Urban  \n"
     ]
    }
   ],
   "source": [
    "# Load the project data file\n",
    "\n",
    "file_path = 'Project_Data_Loan_sanction.xlsx'\n",
    "df = pd.read_excel(file_path)\n",
    "\n",
    "print(df.head())"
   ]
  },
  {
   "cell_type": "code",
   "execution_count": 25,
   "metadata": {},
   "outputs": [
    {
     "name": "stdout",
     "output_type": "stream",
     "text": [
      "Number of duplicate rows: 0\n"
     ]
    }
   ],
   "source": [
    "# Checking the number of duplicate rows\n",
    "num_duplicates = df.duplicated().sum()\n",
    "\n",
    "# Printing the number of duplicate rows\n",
    "print(f\"Number of duplicate rows: {num_duplicates}\")"
   ]
  },
  {
   "cell_type": "code",
   "execution_count": 26,
   "metadata": {},
   "outputs": [
    {
     "name": "stdout",
     "output_type": "stream",
     "text": [
      "df_duplicate_cleaned shape: (367, 12)\n"
     ]
    }
   ],
   "source": [
    "# Dropping the duplicate rows \n",
    "df_duplicate_cleaned = df.drop_duplicates()\n",
    "print('df_duplicate_cleaned shape:', df_duplicate_cleaned.shape)"
   ]
  },
  {
   "cell_type": "code",
   "execution_count": 27,
   "metadata": {},
   "outputs": [
    {
     "name": "stdout",
     "output_type": "stream",
     "text": [
      "Loan_ID                0\n",
      "Gender                 0\n",
      "Married                0\n",
      "Dependents            10\n",
      "Education              0\n",
      "Self_Employed          0\n",
      "Applicant_Income       0\n",
      "Coapplicant_Income     0\n",
      "LoanAmount             0\n",
      "Loan_Amount_Term       0\n",
      "Credit_History         0\n",
      "Property_Area          0\n",
      "dtype: int64\n"
     ]
    }
   ],
   "source": [
    "# Checking for null values in each column\n",
    "null_values = df.isnull().sum()\n",
    "\n",
    "# Printing the number of null values in each column\n",
    "print(null_values)"
   ]
  },
  {
   "cell_type": "code",
   "execution_count": 29,
   "metadata": {},
   "outputs": [
    {
     "name": "stdout",
     "output_type": "stream",
     "text": [
      "df_null_cleaned: (357, 12)\n"
     ]
    }
   ],
   "source": [
    "# Deleting the Rows which are having null values\n",
    "df_null_cleaned = df.dropna()\n",
    "print('df_null_cleaned:', df_null_cleaned.shape)"
   ]
  },
  {
   "cell_type": "code",
   "execution_count": 32,
   "metadata": {},
   "outputs": [
    {
     "name": "stdout",
     "output_type": "stream",
     "text": [
      "0      Male\n",
      "1      Male\n",
      "2      Male\n",
      "3      Male\n",
      "4      Male\n",
      "       ... \n",
      "362    Male\n",
      "363    Male\n",
      "364    Male\n",
      "365    Male\n",
      "366    Male\n",
      "Name: Gender, Length: 367, dtype: object\n"
     ]
    }
   ],
   "source": [
    "# Impute null values with Mode in Gender Column\n",
    "mode_gender = df['Gender'].mode()[0]\n",
    "df_updated = df['Gender'].fillna(mode_gender)\n",
    "print(df_updated)"
   ]
  },
  {
   "cell_type": "code",
   "execution_count": 33,
   "metadata": {},
   "outputs": [
    {
     "name": "stdout",
     "output_type": "stream",
     "text": [
      "0       No\n",
      "1       No\n",
      "2       No\n",
      "3       No\n",
      "4       No\n",
      "      ... \n",
      "362    Yes\n",
      "363     No\n",
      "364     No\n",
      "365     No\n",
      "366    Yes\n",
      "Name: Self_Employed, Length: 367, dtype: object\n"
     ]
    }
   ],
   "source": [
    "# Impute null values with Mode in Self_Employed Column\n",
    "mode_self_employed = df['Self_Employed'].mode()[0]\n",
    "df_updated = df['Self_Employed'].fillna(mode_self_employed)\n",
    "print(df_updated)"
   ]
  },
  {
   "cell_type": "code",
   "execution_count": 34,
   "metadata": {},
   "outputs": [
    {
     "name": "stdout",
     "output_type": "stream",
     "text": [
      "0      110\n",
      "1      126\n",
      "2      208\n",
      "3      100\n",
      "4       78\n",
      "      ... \n",
      "362    113\n",
      "363    115\n",
      "364    126\n",
      "365    158\n",
      "366     98\n",
      "Name: LoanAmount, Length: 367, dtype: int64\n"
     ]
    }
   ],
   "source": [
    "# Impute null values with Median in LoanAmount Column\n",
    "median_loan_amount = df['LoanAmount'].median()\n",
    "df_updated = df['LoanAmount'].fillna(median_loan_amount)\n",
    "print(df_updated)"
   ]
  },
  {
   "cell_type": "code",
   "execution_count": 35,
   "metadata": {},
   "outputs": [
    {
     "name": "stdout",
     "output_type": "stream",
     "text": [
      "    Loan_ID Gender Married Dependents     Education Self_Employed  \\\n",
      "0  LP001015   Male     Yes          0      Graduate            No   \n",
      "1  LP001022   Male     Yes          1      Graduate            No   \n",
      "2  LP001031   Male     Yes          2      Graduate            No   \n",
      "3  LP001035   Male     Yes          2      Graduate            No   \n",
      "4  LP001051   Male      No          0  Not Graduate            No   \n",
      "\n",
      "   Applicant_Income  Coapplicant_Income  LoanAmount  Loan_Amount_Term  \\\n",
      "0              5720                   0         110               360   \n",
      "1              3076                1500         126               360   \n",
      "2              5000                1800         208               360   \n",
      "3              2340                2546         100               360   \n",
      "4              3276                   0          78               360   \n",
      "\n",
      "   Credit_History Property_Area  \n",
      "0               1         Urban  \n",
      "1               1         Urban  \n",
      "2               1         Urban  \n",
      "3               1         Urban  \n",
      "4               1         Urban  \n"
     ]
    }
   ],
   "source": [
    "# Print the Top 5 Records\n",
    "top_5_records = df.head()\n",
    "print(top_5_records)"
   ]
  },
  {
   "cell_type": "code",
   "execution_count": 36,
   "metadata": {},
   "outputs": [
    {
     "name": "stdout",
     "output_type": "stream",
     "text": [
      "The dataframe successfully exported to an excel file\n"
     ]
    }
   ],
   "source": [
    "# Export the DataFrame to an Excel file\n",
    "output_file_path = 'output.xlsx'\n",
    "df.to_excel(output_file_path, index=False)\n",
    "print('The dataframe successfully exported to an excel file')"
   ]
  },
  {
   "cell_type": "code",
   "execution_count": 37,
   "metadata": {},
   "outputs": [
    {
     "name": "stdout",
     "output_type": "stream",
     "text": [
      "Number of rows: 367\n",
      "Number of columns: 12\n"
     ]
    }
   ],
   "source": [
    "# Get the number of rows in the DataFrame\n",
    "num_rows = df.shape[0]\n",
    "print(f\"Number of rows: {num_rows}\")\n",
    "\n",
    "# Get the number of columns in the DataFrame\n",
    "num_columns = df.shape[1]\n",
    "print(f\"Number of columns: {num_columns}\")"
   ]
  },
  {
   "cell_type": "code",
   "execution_count": 38,
   "metadata": {},
   "outputs": [
    {
     "name": "stdout",
     "output_type": "stream",
     "text": [
      "Index(['Loan_ID', 'Gender', 'Married', 'Dependents', 'Education',\n",
      "       'Self_Employed', 'Applicant_Income', 'Coapplicant_Income', 'LoanAmount',\n",
      "       'Loan_Amount_Term', 'Credit_History', 'Property_Area'],\n",
      "      dtype='object')\n"
     ]
    }
   ],
   "source": [
    "# Get and print all Column names in a DataFrame\n",
    "column_names = df.columns\n",
    "print(column_names)"
   ]
  },
  {
   "cell_type": "code",
   "execution_count": 39,
   "metadata": {},
   "outputs": [
    {
     "name": "stdout",
     "output_type": "stream",
     "text": [
      "       Applicant_Income  Coapplicant_Income  LoanAmount  Loan_Amount_Term  \\\n",
      "count        367.000000          367.000000  367.000000        367.000000   \n",
      "mean        4805.599455         1569.577657  135.980926        342.822888   \n",
      "std         4910.685399         2334.232099   60.959739         64.658402   \n",
      "min            0.000000            0.000000   28.000000          6.000000   \n",
      "25%         2864.000000            0.000000  101.000000        360.000000   \n",
      "50%         3786.000000         1025.000000  125.000000        360.000000   \n",
      "75%         5060.000000         2430.500000  157.500000        360.000000   \n",
      "max        72529.000000        24000.000000  550.000000        480.000000   \n",
      "\n",
      "       Credit_History  \n",
      "count           367.0  \n",
      "mean              1.0  \n",
      "std               0.0  \n",
      "min               1.0  \n",
      "25%               1.0  \n",
      "50%               1.0  \n",
      "75%               1.0  \n",
      "max               1.0  \n"
     ]
    }
   ],
   "source": [
    "# Generate the descriptive statistics of numerical variables\n",
    "numerical_stats = df.describe()\n",
    "print(numerical_stats)"
   ]
  },
  {
   "cell_type": "code",
   "execution_count": 40,
   "metadata": {},
   "outputs": [
    {
     "name": "stdout",
     "output_type": "stream",
     "text": [
      "     Applicant_Income  Coapplicant_Income  LoanAmount  Loan_Amount_Term  \\\n",
      "0                5720                   0         110               360   \n",
      "1                3076                1500         126               360   \n",
      "2                5000                1800         208               360   \n",
      "3                2340                2546         100               360   \n",
      "4                3276                   0          78               360   \n",
      "..                ...                 ...         ...               ...   \n",
      "362              4009                1777         113               360   \n",
      "363              4158                 709         115               360   \n",
      "364              3250                1993         126               360   \n",
      "365              5000                2393         158               360   \n",
      "366              9200                   0          98               180   \n",
      "\n",
      "     Credit_History  \n",
      "0                 1  \n",
      "1                 1  \n",
      "2                 1  \n",
      "3                 1  \n",
      "4                 1  \n",
      "..              ...  \n",
      "362               1  \n",
      "363               1  \n",
      "364               1  \n",
      "365               1  \n",
      "366               1  \n",
      "\n",
      "[367 rows x 5 columns]\n"
     ]
    }
   ],
   "source": [
    "# Display numeric data type columns\n",
    "numeric_columns = df.select_dtypes(include=['int64', 'float64'])\n",
    "print(numeric_columns)"
   ]
  },
  {
   "cell_type": "code",
   "execution_count": 48,
   "metadata": {},
   "outputs": [
    {
     "name": "stdout",
     "output_type": "stream",
     "text": [
      "     Applicant_Income  Coapplicant_Income  LoanAmount  Loan_Amount_Term  \\\n",
      "0                5720                   0         110               360   \n",
      "1                3076                1500         126               360   \n",
      "2                5000                1800         208               360   \n",
      "3                2340                2546         100               360   \n",
      "4                3276                   0          78               360   \n",
      "..                ...                 ...         ...               ...   \n",
      "362              4009                1777         113               360   \n",
      "363              4158                 709         115               360   \n",
      "364              3250                1993         126               360   \n",
      "365              5000                2393         158               360   \n",
      "366              9200                   0          98               180   \n",
      "\n",
      "     Credit_History  \n",
      "0                 1  \n",
      "1                 1  \n",
      "2                 1  \n",
      "3                 1  \n",
      "4                 1  \n",
      "..              ...  \n",
      "362               1  \n",
      "363               1  \n",
      "364               1  \n",
      "365               1  \n",
      "366               1  \n",
      "\n",
      "[367 rows x 5 columns]\n"
     ]
    }
   ],
   "source": [
    "# Select all data types of columns in a DF except object data type\n",
    "non_object_columns = df.select_dtypes(exclude=['object'])\n",
    "print(non_object_columns)"
   ]
  },
  {
   "cell_type": "code",
   "execution_count": 42,
   "metadata": {},
   "outputs": [
    {
     "name": "stdout",
     "output_type": "stream",
     "text": [
      "      Loan_ID  Gender Married Dependents     Education Self_Employed  \\\n",
      "5    LP001054    Male     Yes          0  Not Graduate           Yes   \n",
      "37   LP001210    Male     Yes          0      Graduate           Yes   \n",
      "38   LP001211    Male      No          0      Graduate           Yes   \n",
      "49   LP001270    Male     Yes         3+  Not Graduate           Yes   \n",
      "54   LP001312    Male     Yes          0  Not Graduate           Yes   \n",
      "61   LP001335    Male     Yes          0      Graduate           Yes   \n",
      "73   LP001380    Male     Yes          0      Graduate           Yes   \n",
      "77   LP001413    Male      No          0      Graduate           Yes   \n",
      "90   LP001475    Male     Yes          0      Graduate           Yes   \n",
      "110  LP001584  Female      No          0      Graduate           Yes   \n",
      "132  LP001728    Male     Yes          1      Graduate           Yes   \n",
      "143  LP001791    Male     Yes          0      Graduate           Yes   \n",
      "144  LP001794    Male     Yes          2      Graduate           Yes   \n",
      "147  LP001817    Male      No          0  Not Graduate           Yes   \n",
      "155  LP001857    Male      No          0  Not Graduate           Yes   \n",
      "156  LP001862    Male     Yes          2      Graduate           Yes   \n",
      "195  LP002083    Male      No          0      Graduate           Yes   \n",
      "199  LP002102    Male     Yes          0      Graduate           Yes   \n",
      "200  LP002105    Male     Yes          0      Graduate           Yes   \n",
      "212  LP002172    Male     Yes         3+      Graduate           Yes   \n",
      "218  LP002195    Male     Yes          1      Graduate           Yes   \n",
      "224  LP002256  Female      No          2      Graduate           Yes   \n",
      "231  LP002298    Male      No          0      Graduate           Yes   \n",
      "246  LP002358    Male     Yes          2      Graduate           Yes   \n",
      "248  LP002375    Male     Yes          0  Not Graduate           Yes   \n",
      "271  LP002482  Female      No          0      Graduate           Yes   \n",
      "300  LP002644    Male     Yes          1      Graduate           Yes   \n",
      "302  LP002654  Female      No        NaN      Graduate           Yes   \n",
      "303  LP002657    Male     Yes          1  Not Graduate           Yes   \n",
      "306  LP002721    Male     Yes          2      Graduate           Yes   \n",
      "328  LP002806    Male     Yes         3+      Graduate           Yes   \n",
      "338  LP002857    Male     Yes          1      Graduate           Yes   \n",
      "340  LP002860    Male     Yes          0      Graduate           Yes   \n",
      "341  LP002867    Male      No          0      Graduate           Yes   \n",
      "349  LP002891    Male     Yes          0      Graduate           Yes   \n",
      "362  LP002971    Male     Yes         3+  Not Graduate           Yes   \n",
      "366  LP002989    Male      No          0      Graduate           Yes   \n",
      "\n",
      "     Applicant_Income  Coapplicant_Income  LoanAmount  Loan_Amount_Term  \\\n",
      "5                2165                3422         152               360   \n",
      "37               2267                2792          90               360   \n",
      "38               5833                   0         116               360   \n",
      "49               8000                 250         187               360   \n",
      "54               5293                   0          92               360   \n",
      "61               7016                 292         125               360   \n",
      "73               3900                2094         232               360   \n",
      "77               6356                   0          50               360   \n",
      "90               3188                2286         130               360   \n",
      "110              4742                   0         108               360   \n",
      "132              3343                1517         105               360   \n",
      "143             32000                   0         550               360   \n",
      "144             10890                   0         260                12   \n",
      "147              8703                   0         199               360   \n",
      "155              1599                2474         125               300   \n",
      "156              4246                4246         214               360   \n",
      "195              5833                   0         116               360   \n",
      "199              1900                1442          88               360   \n",
      "200              8706                   0         108               480   \n",
      "212              5384                   0         150               360   \n",
      "218              3507                3148         212               360   \n",
      "224              5184                   0         187               360   \n",
      "231              2860                2988         138               360   \n",
      "246              5000                2166         150               360   \n",
      "248              3943                   0          64               360   \n",
      "271              3333                3916         212               360   \n",
      "300              7500                   0          75               360   \n",
      "302             14987                   0         177               360   \n",
      "303               570                2125          68               360   \n",
      "306              7500                   0         183               360   \n",
      "328              6958                1411         150               360   \n",
      "338              2360                3355          87               240   \n",
      "340              2623                4831         122               180   \n",
      "341              3972                4275         187               360   \n",
      "349              2500                 296         137               300   \n",
      "362              4009                1777         113               360   \n",
      "366              9200                   0          98               180   \n",
      "\n",
      "     Credit_History Property_Area  \n",
      "5                 1         Urban  \n",
      "37                1         Urban  \n",
      "38                1         Urban  \n",
      "49                1     Semiurban  \n",
      "54                1         Urban  \n",
      "61                1         Urban  \n",
      "73                1         Rural  \n",
      "77                1         Rural  \n",
      "90                1         Rural  \n",
      "110               1     Semiurban  \n",
      "132               1         Rural  \n",
      "143               1     Semiurban  \n",
      "144               1         Rural  \n",
      "147               1         Rural  \n",
      "155               1     Semiurban  \n",
      "156               1         Urban  \n",
      "195               1         Urban  \n",
      "199               1         Rural  \n",
      "200               1         Rural  \n",
      "212               1     Semiurban  \n",
      "218               1         Rural  \n",
      "224               1     Semiurban  \n",
      "231               1         Urban  \n",
      "246               1         Urban  \n",
      "248               1     Semiurban  \n",
      "271               1         Rural  \n",
      "300               1         Urban  \n",
      "302               1         Rural  \n",
      "303               1         Rural  \n",
      "306               1         Rural  \n",
      "328               1         Rural  \n",
      "338               1         Rural  \n",
      "340               1     Semiurban  \n",
      "341               1         Rural  \n",
      "349               1         Rural  \n",
      "362               1         Urban  \n",
      "366               1         Rural  \n"
     ]
    }
   ],
   "source": [
    "# Extract records where Self_Employed is equal to \"Yes\"\n",
    "self_employed_yes = df[df['Self_Employed'] == 'Yes']\n",
    "print(self_employed_yes)"
   ]
  },
  {
   "cell_type": "code",
   "execution_count": 43,
   "metadata": {},
   "outputs": [
    {
     "name": "stdout",
     "output_type": "stream",
     "text": [
      "      Loan_ID  Gender Married Dependents     Education Self_Employed  \\\n",
      "0    LP001015    Male     Yes          0      Graduate            No   \n",
      "1    LP001022    Male     Yes          1      Graduate            No   \n",
      "2    LP001031    Male     Yes          2      Graduate            No   \n",
      "3    LP001035    Male     Yes          2      Graduate            No   \n",
      "4    LP001051    Male      No          0  Not Graduate            No   \n",
      "..        ...     ...     ...        ...           ...           ...   \n",
      "356  LP002935    Male     Yes          1      Graduate            No   \n",
      "357  LP002952    Male      No          0      Graduate            No   \n",
      "360  LP002965  Female     Yes          0      Graduate            No   \n",
      "362  LP002971    Male     Yes         3+  Not Graduate           Yes   \n",
      "363  LP002975    Male     Yes          0      Graduate            No   \n",
      "\n",
      "     Applicant_Income  Coapplicant_Income  LoanAmount  Loan_Amount_Term  \\\n",
      "0                5720                   0         110               360   \n",
      "1                3076                1500         126               360   \n",
      "2                5000                1800         208               360   \n",
      "3                2340                2546         100               360   \n",
      "4                3276                   0          78               360   \n",
      "..                ...                 ...         ...               ...   \n",
      "356              3791                1936          85               360   \n",
      "357              2500                   0          60               360   \n",
      "360              8550                4255          96               360   \n",
      "362              4009                1777         113               360   \n",
      "363              4158                 709         115               360   \n",
      "\n",
      "     Credit_History Property_Area  \n",
      "0                 1         Urban  \n",
      "1                 1         Urban  \n",
      "2                 1         Urban  \n",
      "3                 1         Urban  \n",
      "4                 1         Urban  \n",
      "..              ...           ...  \n",
      "356               1         Urban  \n",
      "357               1         Urban  \n",
      "360               1         Urban  \n",
      "362               1         Urban  \n",
      "363               1         Urban  \n",
      "\n",
      "[140 rows x 12 columns]\n"
     ]
    }
   ],
   "source": [
    "# Extract records where Property_Area is equal to \"Urban\"\n",
    "urban_records = df[df['Property_Area'] == 'Urban']\n",
    "print(urban_records)"
   ]
  },
  {
   "cell_type": "code",
   "execution_count": 45,
   "metadata": {},
   "outputs": [
    {
     "name": "stdout",
     "output_type": "stream",
     "text": [
      "Number of unique values in 'Gender' column: 2\n"
     ]
    }
   ],
   "source": [
    "# Print the number of unique values in the \"Gender\" column\n",
    "unique_gender_count = df['Gender'].nunique()\n",
    "print(f\"Number of unique values in 'Gender' column: {unique_gender_count}\")"
   ]
  }
 ],
 "metadata": {
  "kernelspec": {
   "display_name": "base",
   "language": "python",
   "name": "python3"
  },
  "language_info": {
   "codemirror_mode": {
    "name": "ipython",
    "version": 3
   },
   "file_extension": ".py",
   "mimetype": "text/x-python",
   "name": "python",
   "nbconvert_exporter": "python",
   "pygments_lexer": "ipython3",
   "version": "3.10.9"
  },
  "orig_nbformat": 4
 },
 "nbformat": 4,
 "nbformat_minor": 2
}
